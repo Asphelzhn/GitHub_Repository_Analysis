{
 "cells": [
  {
   "cell_type": "markdown",
   "metadata": {},
   "source": [
    "\n",
    "\n",
    "<h1 style=\"font-size:30px;color:black;text-align:center\">                   An analysis of the most popular repos on Github[incomplete]</h1>\n",
    "<img src=\"https://kanbanize.com/blog/wp-content/uploads/2014/11/GitHub.jpg\" alt=\"github\" width=50% height=50%>\n",
    "<hr>\n",
    "_Areas of focus include: Type of repo, Size, Metrics of popularity, Languages used, Level of activity_\n",
    "\n",
    "_Data Source: https://www.kaggle.com/chasewillden/topstarredopensourceprojects _\n"
   ]
  },
  {
   "cell_type": "code",
   "execution_count": 224,
   "metadata": {},
   "outputs": [],
   "source": [
    "import numpy as np\n",
    "import pandas as pd\n",
    "import matplotlib.pyplot as plt\n",
    "plt.style.use('default')\n"
   ]
  },
  {
   "cell_type": "code",
   "execution_count": 225,
   "metadata": {},
   "outputs": [
    {
     "data": {
      "text/html": [
       "<div>\n",
       "<style>\n",
       "    .dataframe thead tr:only-child th {\n",
       "        text-align: right;\n",
       "    }\n",
       "\n",
       "    .dataframe thead th {\n",
       "        text-align: left;\n",
       "    }\n",
       "\n",
       "    .dataframe tbody tr th {\n",
       "        vertical-align: top;\n",
       "    }\n",
       "</style>\n",
       "<table border=\"1\" class=\"dataframe\">\n",
       "  <thead>\n",
       "    <tr style=\"text-align: right;\">\n",
       "      <th></th>\n",
       "      <th>Username</th>\n",
       "      <th>Repository Name</th>\n",
       "      <th>Description</th>\n",
       "      <th>Last Update Date</th>\n",
       "      <th>Language</th>\n",
       "      <th>Number of Stars</th>\n",
       "      <th>Tags</th>\n",
       "      <th>Url</th>\n",
       "    </tr>\n",
       "  </thead>\n",
       "  <tbody>\n",
       "    <tr>\n",
       "      <th>0</th>\n",
       "      <td>freeCodeCamp</td>\n",
       "      <td>freeCodeCamp</td>\n",
       "      <td>The https://freeCodeCamp.com open source codeb...</td>\n",
       "      <td>2017-06-24 15:56:17</td>\n",
       "      <td>JavaScript</td>\n",
       "      <td>290k</td>\n",
       "      <td>nonprofits,certification,curriculum,react,node...</td>\n",
       "      <td>https://github.com/freeCodeCamp/freeCodeCamp</td>\n",
       "    </tr>\n",
       "    <tr>\n",
       "      <th>1</th>\n",
       "      <td>twbs</td>\n",
       "      <td>bootstrap</td>\n",
       "      <td>The most popular HTML, CSS, and JavaScript fra...</td>\n",
       "      <td>2017-06-24 15:40:21</td>\n",
       "      <td>JavaScript</td>\n",
       "      <td>112k</td>\n",
       "      <td>javascript,css,html,bootstrap,jekyll-site,scss</td>\n",
       "      <td>https://github.com/twbs/bootstrap</td>\n",
       "    </tr>\n",
       "    <tr>\n",
       "      <th>2</th>\n",
       "      <td>EbookFoundation</td>\n",
       "      <td>free-programming-books</td>\n",
       "      <td>Freely available programming books</td>\n",
       "      <td>2017-06-23 01:09:34</td>\n",
       "      <td>NaN</td>\n",
       "      <td>87.8k</td>\n",
       "      <td>education,list,books,resource</td>\n",
       "      <td>https://github.com/EbookFoundation/free-progra...</td>\n",
       "    </tr>\n",
       "    <tr>\n",
       "      <th>3</th>\n",
       "      <td>facebook</td>\n",
       "      <td>react</td>\n",
       "      <td>A declarative, efficient, and flexible JavaScr...</td>\n",
       "      <td>2017-06-24 19:33:49</td>\n",
       "      <td>JavaScript</td>\n",
       "      <td>69.7k</td>\n",
       "      <td>NaN</td>\n",
       "      <td>https://github.com/facebook/react</td>\n",
       "    </tr>\n",
       "    <tr>\n",
       "      <th>4</th>\n",
       "      <td>d3</td>\n",
       "      <td>d3</td>\n",
       "      <td>Bring data to life with SVG, Canvas and HTML.</td>\n",
       "      <td>2017-05-31 06:03:47</td>\n",
       "      <td>JavaScript</td>\n",
       "      <td>65.7k</td>\n",
       "      <td>visualization</td>\n",
       "      <td>https://github.com/d3/d3</td>\n",
       "    </tr>\n",
       "  </tbody>\n",
       "</table>\n",
       "</div>"
      ],
      "text/plain": [
       "          Username         Repository Name                                        Description    Last Update Date    Language Number of Stars                                               Tags                                                Url\n",
       "0     freeCodeCamp            freeCodeCamp  The https://freeCodeCamp.com open source codeb... 2017-06-24 15:56:17  JavaScript            290k  nonprofits,certification,curriculum,react,node...       https://github.com/freeCodeCamp/freeCodeCamp\n",
       "1             twbs               bootstrap  The most popular HTML, CSS, and JavaScript fra... 2017-06-24 15:40:21  JavaScript            112k     javascript,css,html,bootstrap,jekyll-site,scss                  https://github.com/twbs/bootstrap\n",
       "2  EbookFoundation  free-programming-books                 Freely available programming books 2017-06-23 01:09:34         NaN           87.8k                      education,list,books,resource  https://github.com/EbookFoundation/free-progra...\n",
       "3         facebook                   react  A declarative, efficient, and flexible JavaScr... 2017-06-24 19:33:49  JavaScript           69.7k                                                NaN                  https://github.com/facebook/react\n",
       "4               d3                      d3     Bring data to life with SVG, Canvas and HTML.  2017-05-31 06:03:47  JavaScript           65.7k                                      visualization                           https://github.com/d3/d3"
      ]
     },
     "execution_count": 225,
     "metadata": {},
     "output_type": "execute_result"
    }
   ],
   "source": [
    "git_df = pd.read_csv(\"topstarredopensourceprojects/TopStaredRepositories.csv\", parse_dates=['Last Update Date'], dayfirst=True)\n",
    "git_df.head()"
   ]
  },
  {
   "cell_type": "code",
   "execution_count": 226,
   "metadata": {},
   "outputs": [
    {
     "name": "stdout",
     "output_type": "stream",
     "text": [
      "<class 'pandas.core.frame.DataFrame'>\n",
      "RangeIndex: 980 entries, 0 to 979\n",
      "Data columns (total 8 columns):\n",
      "Username            980 non-null object\n",
      "Repository Name     980 non-null object\n",
      "Description         977 non-null object\n",
      "Last Update Date    980 non-null datetime64[ns]\n",
      "Language            877 non-null object\n",
      "Number of Stars     980 non-null object\n",
      "Tags                489 non-null object\n",
      "Url                 980 non-null object\n",
      "dtypes: datetime64[ns](1), object(7)\n",
      "memory usage: 61.3+ KB\n"
     ]
    }
   ],
   "source": [
    "git_df.info()"
   ]
  },
  {
   "cell_type": "markdown",
   "metadata": {},
   "source": [
    "### 1. Popular Repositories\n",
    "**Determining what constitutes a popular repository by extracting the range of maximum and minimum starred repositories**"
   ]
  },
  {
   "cell_type": "code",
   "execution_count": 227,
   "metadata": {},
   "outputs": [
    {
     "data": {
      "text/plain": [
       "True"
      ]
     },
     "execution_count": 227,
     "metadata": {},
     "output_type": "execute_result"
    }
   ],
   "source": [
    "git_df_max = git_df['Number of Stars'].str.contains('k').all()\n",
    "git_df_max"
   ]
  },
  {
   "cell_type": "code",
   "execution_count": 228,
   "metadata": {
    "collapsed": true
   },
   "outputs": [],
   "source": [
    "git_df['Number of Stars']=git_df['Number of Stars'].str.replace('k','').astype(float)"
   ]
  },
  {
   "cell_type": "code",
   "execution_count": 229,
   "metadata": {},
   "outputs": [
    {
     "data": {
      "text/html": [
       "<div>\n",
       "<style>\n",
       "    .dataframe thead tr:only-child th {\n",
       "        text-align: right;\n",
       "    }\n",
       "\n",
       "    .dataframe thead th {\n",
       "        text-align: left;\n",
       "    }\n",
       "\n",
       "    .dataframe tbody tr th {\n",
       "        vertical-align: top;\n",
       "    }\n",
       "</style>\n",
       "<table border=\"1\" class=\"dataframe\">\n",
       "  <thead>\n",
       "    <tr style=\"text-align: right;\">\n",
       "      <th></th>\n",
       "      <th>Username</th>\n",
       "      <th>Repository Name</th>\n",
       "      <th>Description</th>\n",
       "      <th>Last Update Date</th>\n",
       "      <th>Language</th>\n",
       "      <th>Number of Stars</th>\n",
       "      <th>Tags</th>\n",
       "      <th>Url</th>\n",
       "    </tr>\n",
       "  </thead>\n",
       "  <tbody>\n",
       "    <tr>\n",
       "      <th>0</th>\n",
       "      <td>freeCodeCamp</td>\n",
       "      <td>freeCodeCamp</td>\n",
       "      <td>The https://freeCodeCamp.com open source codeb...</td>\n",
       "      <td>2017-06-24 15:56:17</td>\n",
       "      <td>JavaScript</td>\n",
       "      <td>290.0</td>\n",
       "      <td>nonprofits,certification,curriculum,react,node...</td>\n",
       "      <td>https://github.com/freeCodeCamp/freeCodeCamp</td>\n",
       "    </tr>\n",
       "    <tr>\n",
       "      <th>1</th>\n",
       "      <td>twbs</td>\n",
       "      <td>bootstrap</td>\n",
       "      <td>The most popular HTML, CSS, and JavaScript fra...</td>\n",
       "      <td>2017-06-24 15:40:21</td>\n",
       "      <td>JavaScript</td>\n",
       "      <td>112.0</td>\n",
       "      <td>javascript,css,html,bootstrap,jekyll-site,scss</td>\n",
       "      <td>https://github.com/twbs/bootstrap</td>\n",
       "    </tr>\n",
       "    <tr>\n",
       "      <th>2</th>\n",
       "      <td>EbookFoundation</td>\n",
       "      <td>free-programming-books</td>\n",
       "      <td>Freely available programming books</td>\n",
       "      <td>2017-06-23 01:09:34</td>\n",
       "      <td>NaN</td>\n",
       "      <td>87.8</td>\n",
       "      <td>education,list,books,resource</td>\n",
       "      <td>https://github.com/EbookFoundation/free-progra...</td>\n",
       "    </tr>\n",
       "    <tr>\n",
       "      <th>3</th>\n",
       "      <td>facebook</td>\n",
       "      <td>react</td>\n",
       "      <td>A declarative, efficient, and flexible JavaScr...</td>\n",
       "      <td>2017-06-24 19:33:49</td>\n",
       "      <td>JavaScript</td>\n",
       "      <td>69.7</td>\n",
       "      <td>NaN</td>\n",
       "      <td>https://github.com/facebook/react</td>\n",
       "    </tr>\n",
       "    <tr>\n",
       "      <th>4</th>\n",
       "      <td>d3</td>\n",
       "      <td>d3</td>\n",
       "      <td>Bring data to life with SVG, Canvas and HTML.</td>\n",
       "      <td>2017-05-31 06:03:47</td>\n",
       "      <td>JavaScript</td>\n",
       "      <td>65.7</td>\n",
       "      <td>visualization</td>\n",
       "      <td>https://github.com/d3/d3</td>\n",
       "    </tr>\n",
       "  </tbody>\n",
       "</table>\n",
       "</div>"
      ],
      "text/plain": [
       "          Username         Repository Name                                        Description    Last Update Date    Language  Number of Stars                                               Tags                                                Url\n",
       "0     freeCodeCamp            freeCodeCamp  The https://freeCodeCamp.com open source codeb... 2017-06-24 15:56:17  JavaScript            290.0  nonprofits,certification,curriculum,react,node...       https://github.com/freeCodeCamp/freeCodeCamp\n",
       "1             twbs               bootstrap  The most popular HTML, CSS, and JavaScript fra... 2017-06-24 15:40:21  JavaScript            112.0     javascript,css,html,bootstrap,jekyll-site,scss                  https://github.com/twbs/bootstrap\n",
       "2  EbookFoundation  free-programming-books                 Freely available programming books 2017-06-23 01:09:34         NaN             87.8                      education,list,books,resource  https://github.com/EbookFoundation/free-progra...\n",
       "3         facebook                   react  A declarative, efficient, and flexible JavaScr... 2017-06-24 19:33:49  JavaScript             69.7                                                NaN                  https://github.com/facebook/react\n",
       "4               d3                      d3     Bring data to life with SVG, Canvas and HTML.  2017-05-31 06:03:47  JavaScript             65.7                                      visualization                           https://github.com/d3/d3"
      ]
     },
     "execution_count": 229,
     "metadata": {},
     "output_type": "execute_result"
    }
   ],
   "source": [
    "git_df.head()"
   ]
  },
  {
   "cell_type": "code",
   "execution_count": 230,
   "metadata": {},
   "outputs": [
    {
     "data": {
      "text/html": [
       "<div>\n",
       "<style>\n",
       "    .dataframe thead tr:only-child th {\n",
       "        text-align: right;\n",
       "    }\n",
       "\n",
       "    .dataframe thead th {\n",
       "        text-align: left;\n",
       "    }\n",
       "\n",
       "    .dataframe tbody tr th {\n",
       "        vertical-align: top;\n",
       "    }\n",
       "</style>\n",
       "<table border=\"1\" class=\"dataframe\">\n",
       "  <thead>\n",
       "    <tr style=\"text-align: right;\">\n",
       "      <th></th>\n",
       "      <th>Username</th>\n",
       "      <th>Repository Name</th>\n",
       "      <th>Description</th>\n",
       "      <th>Last Update Date</th>\n",
       "      <th>Language</th>\n",
       "      <th>Number of Stars</th>\n",
       "      <th>Tags</th>\n",
       "      <th>Url</th>\n",
       "    </tr>\n",
       "  </thead>\n",
       "  <tbody>\n",
       "    <tr>\n",
       "      <th>975</th>\n",
       "      <td>chrisjenx</td>\n",
       "      <td>Calligraphy</td>\n",
       "      <td>Custom fonts in Android the easy way...</td>\n",
       "      <td>2017-06-06 19:23:22</td>\n",
       "      <td>Java</td>\n",
       "      <td>6.4</td>\n",
       "      <td>NaN</td>\n",
       "      <td>https://github.com/chrisjenx/Calligraphy</td>\n",
       "    </tr>\n",
       "    <tr>\n",
       "      <th>976</th>\n",
       "      <td>eliangcs</td>\n",
       "      <td>http-prompt</td>\n",
       "      <td>HTTPie + prompt_toolkit = an interactive comma...</td>\n",
       "      <td>2017-05-11 13:27:42</td>\n",
       "      <td>Python</td>\n",
       "      <td>6.4</td>\n",
       "      <td>python,syntax-highlighting,shell,cli,http,auto...</td>\n",
       "      <td>https://github.com/eliangcs/http-prompt</td>\n",
       "    </tr>\n",
       "    <tr>\n",
       "      <th>977</th>\n",
       "      <td>robertdavidgraham</td>\n",
       "      <td>masscan</td>\n",
       "      <td>TCP port scanner, spews SYN packets asynchrono...</td>\n",
       "      <td>2017-06-22 06:27:09</td>\n",
       "      <td>C</td>\n",
       "      <td>6.4</td>\n",
       "      <td>NaN</td>\n",
       "      <td>https://github.com/robertdavidgraham/masscan</td>\n",
       "    </tr>\n",
       "    <tr>\n",
       "      <th>978</th>\n",
       "      <td>ElemeFE</td>\n",
       "      <td>mint-ui</td>\n",
       "      <td>Mobile UI elements for Vue.js</td>\n",
       "      <td>2017-06-22 10:02:35</td>\n",
       "      <td>Vue</td>\n",
       "      <td>6.4</td>\n",
       "      <td>vue,mobile,component,vue-components,ui-kit</td>\n",
       "      <td>https://github.com/ElemeFE/mint-ui</td>\n",
       "    </tr>\n",
       "    <tr>\n",
       "      <th>979</th>\n",
       "      <td>lhc70000</td>\n",
       "      <td>iina</td>\n",
       "      <td>The modern video player for macOS.</td>\n",
       "      <td>2017-06-24 19:09:31</td>\n",
       "      <td>Swift</td>\n",
       "      <td>6.4</td>\n",
       "      <td>macos,video,mpv,swift,video-player</td>\n",
       "      <td>https://github.com/lhc70000/iina</td>\n",
       "    </tr>\n",
       "  </tbody>\n",
       "</table>\n",
       "</div>"
      ],
      "text/plain": [
       "              Username Repository Name                                        Description    Last Update Date Language  Number of Stars                                               Tags                                           Url\n",
       "975          chrisjenx     Calligraphy            Custom fonts in Android the easy way... 2017-06-06 19:23:22     Java              6.4                                                NaN      https://github.com/chrisjenx/Calligraphy\n",
       "976           eliangcs     http-prompt  HTTPie + prompt_toolkit = an interactive comma... 2017-05-11 13:27:42   Python              6.4  python,syntax-highlighting,shell,cli,http,auto...       https://github.com/eliangcs/http-prompt\n",
       "977  robertdavidgraham         masscan  TCP port scanner, spews SYN packets asynchrono... 2017-06-22 06:27:09        C              6.4                                                NaN  https://github.com/robertdavidgraham/masscan\n",
       "978            ElemeFE         mint-ui                      Mobile UI elements for Vue.js 2017-06-22 10:02:35      Vue              6.4         vue,mobile,component,vue-components,ui-kit            https://github.com/ElemeFE/mint-ui\n",
       "979           lhc70000            iina                 The modern video player for macOS. 2017-06-24 19:09:31    Swift              6.4                 macos,video,mpv,swift,video-player              https://github.com/lhc70000/iina"
      ]
     },
     "execution_count": 230,
     "metadata": {},
     "output_type": "execute_result"
    }
   ],
   "source": [
    "git_df.tail()"
   ]
  },
  {
   "cell_type": "code",
   "execution_count": 231,
   "metadata": {},
   "outputs": [
    {
     "name": "stdout",
     "output_type": "stream",
     "text": [
      "290.0 6.4 12.98571428571427\n"
     ]
    }
   ],
   "source": [
    "max_stars=git_df['Number of Stars'].max()\n",
    "min_stars=git_df['Number of Stars'].min()\n",
    "mean_stars= git_df['Number of Stars'].mean()\n",
    "print(max_stars,min_stars, mean_stars)"
   ]
  },
  {
   "cell_type": "markdown",
   "metadata": {},
   "source": [
    "#### Most popular repo- 290,000 stars\n",
    "#### Least popular repo- 6400 stars\n",
    "#### Average rating of repos- 13,000 stars"
   ]
  },
  {
   "cell_type": "code",
   "execution_count": 232,
   "metadata": {
    "collapsed": true
   },
   "outputs": [],
   "source": [
    "popular_repos= git_df[git_df['Number of Stars'] > 51.0]"
   ]
  },
  {
   "cell_type": "code",
   "execution_count": 233,
   "metadata": {},
   "outputs": [
    {
     "data": {
      "text/html": [
       "<div>\n",
       "<style>\n",
       "    .dataframe thead tr:only-child th {\n",
       "        text-align: right;\n",
       "    }\n",
       "\n",
       "    .dataframe thead th {\n",
       "        text-align: left;\n",
       "    }\n",
       "\n",
       "    .dataframe tbody tr th {\n",
       "        vertical-align: top;\n",
       "    }\n",
       "</style>\n",
       "<table border=\"1\" class=\"dataframe\">\n",
       "  <thead>\n",
       "    <tr style=\"text-align: right;\">\n",
       "      <th></th>\n",
       "      <th>Username</th>\n",
       "      <th>Repository Name</th>\n",
       "      <th>Description</th>\n",
       "      <th>Last Update Date</th>\n",
       "      <th>Language</th>\n",
       "      <th>Number of Stars</th>\n",
       "      <th>Tags</th>\n",
       "      <th>Url</th>\n",
       "    </tr>\n",
       "  </thead>\n",
       "  <tbody>\n",
       "    <tr>\n",
       "      <th>0</th>\n",
       "      <td>freeCodeCamp</td>\n",
       "      <td>freeCodeCamp</td>\n",
       "      <td>The https://freeCodeCamp.com open source codeb...</td>\n",
       "      <td>2017-06-24 15:56:17</td>\n",
       "      <td>JavaScript</td>\n",
       "      <td>290.0</td>\n",
       "      <td>nonprofits,certification,curriculum,react,node...</td>\n",
       "      <td>https://github.com/freeCodeCamp/freeCodeCamp</td>\n",
       "    </tr>\n",
       "    <tr>\n",
       "      <th>1</th>\n",
       "      <td>twbs</td>\n",
       "      <td>bootstrap</td>\n",
       "      <td>The most popular HTML, CSS, and JavaScript fra...</td>\n",
       "      <td>2017-06-24 15:40:21</td>\n",
       "      <td>JavaScript</td>\n",
       "      <td>112.0</td>\n",
       "      <td>javascript,css,html,bootstrap,jekyll-site,scss</td>\n",
       "      <td>https://github.com/twbs/bootstrap</td>\n",
       "    </tr>\n",
       "    <tr>\n",
       "      <th>2</th>\n",
       "      <td>EbookFoundation</td>\n",
       "      <td>free-programming-books</td>\n",
       "      <td>Freely available programming books</td>\n",
       "      <td>2017-06-23 01:09:34</td>\n",
       "      <td>NaN</td>\n",
       "      <td>87.8</td>\n",
       "      <td>education,list,books,resource</td>\n",
       "      <td>https://github.com/EbookFoundation/free-progra...</td>\n",
       "    </tr>\n",
       "    <tr>\n",
       "      <th>3</th>\n",
       "      <td>facebook</td>\n",
       "      <td>react</td>\n",
       "      <td>A declarative, efficient, and flexible JavaScr...</td>\n",
       "      <td>2017-06-24 19:33:49</td>\n",
       "      <td>JavaScript</td>\n",
       "      <td>69.7</td>\n",
       "      <td>NaN</td>\n",
       "      <td>https://github.com/facebook/react</td>\n",
       "    </tr>\n",
       "    <tr>\n",
       "      <th>4</th>\n",
       "      <td>d3</td>\n",
       "      <td>d3</td>\n",
       "      <td>Bring data to life with SVG, Canvas and HTML.</td>\n",
       "      <td>2017-05-31 06:03:47</td>\n",
       "      <td>JavaScript</td>\n",
       "      <td>65.7</td>\n",
       "      <td>visualization</td>\n",
       "      <td>https://github.com/d3/d3</td>\n",
       "    </tr>\n",
       "    <tr>\n",
       "      <th>5</th>\n",
       "      <td>getify</td>\n",
       "      <td>You-Dont-Know-JS</td>\n",
       "      <td>A book series on JavaScript. @YDKJS on twitter.</td>\n",
       "      <td>2017-06-23 10:42:36</td>\n",
       "      <td>JavaScript</td>\n",
       "      <td>62.0</td>\n",
       "      <td>book-series,javascript,training-materials,asyn...</td>\n",
       "      <td>https://github.com/getify/You-Dont-Know-JS</td>\n",
       "    </tr>\n",
       "    <tr>\n",
       "      <th>6</th>\n",
       "      <td>tensorflow</td>\n",
       "      <td>tensorflow</td>\n",
       "      <td>Computation using data flow graphs for scalabl...</td>\n",
       "      <td>2017-06-24 18:25:42</td>\n",
       "      <td>C++</td>\n",
       "      <td>61.6</td>\n",
       "      <td>tensorflow,python,machine-learning,deep-neural...</td>\n",
       "      <td>https://github.com/tensorflow/tensorflow</td>\n",
       "    </tr>\n",
       "    <tr>\n",
       "      <th>7</th>\n",
       "      <td>sindresorhus</td>\n",
       "      <td>awesome</td>\n",
       "      <td>Curated list of awesome lists</td>\n",
       "      <td>2017-06-24 17:26:02</td>\n",
       "      <td>NaN</td>\n",
       "      <td>60.7</td>\n",
       "      <td>lists,awesome,unicorns,resources,awesome-list</td>\n",
       "      <td>https://github.com/sindresorhus/awesome</td>\n",
       "    </tr>\n",
       "    <tr>\n",
       "      <th>8</th>\n",
       "      <td>vuejs</td>\n",
       "      <td>vue</td>\n",
       "      <td>A progressive, incrementally-adoptable JavaScr...</td>\n",
       "      <td>2017-06-24 15:38:55</td>\n",
       "      <td>JavaScript</td>\n",
       "      <td>57.7</td>\n",
       "      <td>javascript,vue,framework,frontend</td>\n",
       "      <td>https://github.com/vuejs/vue</td>\n",
       "    </tr>\n",
       "    <tr>\n",
       "      <th>9</th>\n",
       "      <td>angular</td>\n",
       "      <td>angular.js</td>\n",
       "      <td>AngularJS - HTML enhanced for web apps!</td>\n",
       "      <td>2017-06-24 06:25:23</td>\n",
       "      <td>JavaScript</td>\n",
       "      <td>56.2</td>\n",
       "      <td>NaN</td>\n",
       "      <td>https://github.com/angular/angular.js</td>\n",
       "    </tr>\n",
       "    <tr>\n",
       "      <th>10</th>\n",
       "      <td>robbyrussell</td>\n",
       "      <td>oh-my-zsh</td>\n",
       "      <td>A delightful community-driven (with 1,000+ con...</td>\n",
       "      <td>2017-06-23 19:24:49</td>\n",
       "      <td>Shell</td>\n",
       "      <td>55.2</td>\n",
       "      <td>zsh-configuration,shell,theme,productivity,ter...</td>\n",
       "      <td>https://github.com/robbyrussell/oh-my-zsh</td>\n",
       "    </tr>\n",
       "    <tr>\n",
       "      <th>11</th>\n",
       "      <td>airbnb</td>\n",
       "      <td>javascript</td>\n",
       "      <td>JavaScript Style Guide</td>\n",
       "      <td>2017-06-24 05:44:24</td>\n",
       "      <td>JavaScript</td>\n",
       "      <td>54.1</td>\n",
       "      <td>arrow-functions,javascript,eslint,naming-conve...</td>\n",
       "      <td>https://github.com/airbnb/javascript</td>\n",
       "    </tr>\n",
       "    <tr>\n",
       "      <th>12</th>\n",
       "      <td>github</td>\n",
       "      <td>gitignore</td>\n",
       "      <td>A collection of useful .gitignore templates</td>\n",
       "      <td>2017-06-24 08:48:29</td>\n",
       "      <td>NaN</td>\n",
       "      <td>51.6</td>\n",
       "      <td>gitignore,git</td>\n",
       "      <td>https://github.com/github/gitignore</td>\n",
       "    </tr>\n",
       "  </tbody>\n",
       "</table>\n",
       "</div>"
      ],
      "text/plain": [
       "           Username         Repository Name                                        Description    Last Update Date    Language  Number of Stars                                               Tags                                                Url\n",
       "0      freeCodeCamp            freeCodeCamp  The https://freeCodeCamp.com open source codeb... 2017-06-24 15:56:17  JavaScript            290.0  nonprofits,certification,curriculum,react,node...       https://github.com/freeCodeCamp/freeCodeCamp\n",
       "1              twbs               bootstrap  The most popular HTML, CSS, and JavaScript fra... 2017-06-24 15:40:21  JavaScript            112.0     javascript,css,html,bootstrap,jekyll-site,scss                  https://github.com/twbs/bootstrap\n",
       "2   EbookFoundation  free-programming-books                 Freely available programming books 2017-06-23 01:09:34         NaN             87.8                      education,list,books,resource  https://github.com/EbookFoundation/free-progra...\n",
       "3          facebook                   react  A declarative, efficient, and flexible JavaScr... 2017-06-24 19:33:49  JavaScript             69.7                                                NaN                  https://github.com/facebook/react\n",
       "4                d3                      d3     Bring data to life with SVG, Canvas and HTML.  2017-05-31 06:03:47  JavaScript             65.7                                      visualization                           https://github.com/d3/d3\n",
       "5            getify        You-Dont-Know-JS    A book series on JavaScript. @YDKJS on twitter. 2017-06-23 10:42:36  JavaScript             62.0  book-series,javascript,training-materials,asyn...         https://github.com/getify/You-Dont-Know-JS\n",
       "6        tensorflow              tensorflow  Computation using data flow graphs for scalabl... 2017-06-24 18:25:42         C++             61.6  tensorflow,python,machine-learning,deep-neural...           https://github.com/tensorflow/tensorflow\n",
       "7      sindresorhus                 awesome                      Curated list of awesome lists 2017-06-24 17:26:02         NaN             60.7      lists,awesome,unicorns,resources,awesome-list            https://github.com/sindresorhus/awesome\n",
       "8             vuejs                     vue  A progressive, incrementally-adoptable JavaScr... 2017-06-24 15:38:55  JavaScript             57.7                  javascript,vue,framework,frontend                       https://github.com/vuejs/vue\n",
       "9           angular              angular.js            AngularJS - HTML enhanced for web apps! 2017-06-24 06:25:23  JavaScript             56.2                                                NaN              https://github.com/angular/angular.js\n",
       "10     robbyrussell               oh-my-zsh  A delightful community-driven (with 1,000+ con... 2017-06-23 19:24:49       Shell             55.2  zsh-configuration,shell,theme,productivity,ter...          https://github.com/robbyrussell/oh-my-zsh\n",
       "11           airbnb              javascript                             JavaScript Style Guide 2017-06-24 05:44:24  JavaScript             54.1  arrow-functions,javascript,eslint,naming-conve...               https://github.com/airbnb/javascript\n",
       "12           github               gitignore        A collection of useful .gitignore templates 2017-06-24 08:48:29         NaN             51.6                                      gitignore,git                https://github.com/github/gitignore"
      ]
     },
     "execution_count": 233,
     "metadata": {},
     "output_type": "execute_result"
    }
   ],
   "source": [
    "popular_repos.head(13)"
   ]
  },
  {
   "cell_type": "markdown",
   "metadata": {},
   "source": [
    "### Here we see that freeCodeCamp tops the list with 290,000 stars to its repository.\n",
    "<hr>\n",
    "### The above list lists all repos that have > 51,000 stars\n",
    "#### A few more observations can be derived from this list:\n",
    "<ol>\n",
    "<li>5 of the most popular repos are frameworks</li>\n",
    "<li>The third, fifth and seventh most popular repos are educational, and instructive in nature.</li>\n",
    "<li>JavaScript is the major code in most of the most popular repos</li>\n",
    "<li>Most frameworks listed are for web-based development, highlighting the importance of this sector</li>"
   ]
  },
  {
   "cell_type": "code",
   "execution_count": 245,
   "metadata": {},
   "outputs": [
    {
     "data": {
      "text/plain": [
       "JavaScript     338\n",
       "Java            67\n",
       "Python          63\n",
       "Ruby            44\n",
       "Objective-C     43\n",
       "Name: Language, dtype: int64"
      ]
     },
     "execution_count": 245,
     "metadata": {},
     "output_type": "execute_result"
    }
   ],
   "source": [
    "x=git_df['Language'].value_counts()\n",
    "x.head()"
   ]
  },
  {
   "cell_type": "code",
   "execution_count": 279,
   "metadata": {},
   "outputs": [
    {
     "data": {
      "text/plain": [
       "<matplotlib.axes._subplots.AxesSubplot at 0x20541901d68>"
      ]
     },
     "execution_count": 279,
     "metadata": {},
     "output_type": "execute_result"
    },
    {
     "data": {
      "image/png": "[encoded data removed]",
      "text/plain": [
       "<matplotlib.figure.Figure at 0x20541657710>"
      ]
     },
     "metadata": {},
     "output_type": "display_data"
    }
   ],
   "source": [
    "%matplotlib inline\n",
    "plt.figure()\n",
    "x.plot(kind='barh',figsize=(15,10),grid=True, label='Number of repositories',legend='No of repos',title='No of repositories vs language used')\n"
   ]
  },
  {
   "cell_type": "code",
   "execution_count": 294,
   "metadata": {},
   "outputs": [
    {
     "data": {
      "text/plain": [
       "<matplotlib.axes._subplots.AxesSubplot at 0x2054520e2b0>"
      ]
     },
     "execution_count": 294,
     "metadata": {},
     "output_type": "execute_result"
    },
    {
     "data": {
      "image/png": "[encoded data removed]",
      "text/plain": [
       "<matplotlib.figure.Figure at 0x2054522d2b0>"
      ]
     },
     "metadata": {},
     "output_type": "display_data"
    }
   ],
   "source": [
    "%matplotlib inline\n",
    "x[:5].plot.pie(label=\"Use of the top 5 languages\",fontsize=20,figsize=(10,10))"
   ]
  },
  {
   "cell_type": "code",
   "execution_count": null,
   "metadata": {
    "collapsed": true
   },
   "outputs": [],
   "source": []
  }
 ],
 "metadata": {
  "kernelspec": {
   "display_name": "Python 3",
   "language": "python",
   "name": "python3"
  },
  "language_info": {
   "codemirror_mode": {
    "name": "ipython",
    "version": 3
   },
   "file_extension": ".py",
   "mimetype": "text/x-python",
   "name": "python",
   "nbconvert_exporter": "python",
   "pygments_lexer": "ipython3",
   "version": "3.6.1"
  }
 },
 "nbformat": 4,
 "nbformat_minor": 2
}
