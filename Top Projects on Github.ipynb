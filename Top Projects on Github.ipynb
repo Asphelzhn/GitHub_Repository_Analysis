{
 "cells": [
  {
   "cell_type": "markdown",
   "metadata": {},
   "source": [
    "\n",
    "\n",
    "<h1 style=\"font-size:30px;color:black;text-align:center; text-decoration:underline\">                   An analysis of the most popular repos on Github[incomplete]</h1>\n",
    "<img src=\"https://kanbanize.com/blog/wp-content/uploads/2014/11/GitHub.jpg\" alt=\"github\" width=50% height=50%>\n",
    "<hr>\n",
    "_Areas of focus include: Type of repo, Size, Metrics of popularity, Languages used, Level of activity_\n",
    "\n",
    "_Data Source: https://www.kaggle.com/chasewillden/topstarredopensourceprojects _\n"
   ]
  },
  {
   "cell_type": "code",
   "execution_count": 75,
   "metadata": {
    "collapsed": true
   },
   "outputs": [],
   "source": [
    "import numpy as np\n",
    "import pandas as pd\n",
    "import matplotlib.pyplot as plt\n",
    "plt.style.use('default')\n"
   ]
  },
  {
   "cell_type": "code",
   "execution_count": 76,
   "metadata": {},
   "outputs": [
    {
     "data": {
      "text/html": [
       "<div>\n",
       "<style>\n",
       "    .dataframe thead tr:only-child th {\n",
       "        text-align: right;\n",
       "    }\n",
       "\n",
       "    .dataframe thead th {\n",
       "        text-align: left;\n",
       "    }\n",
       "\n",
       "    .dataframe tbody tr th {\n",
       "        vertical-align: top;\n",
       "    }\n",
       "</style>\n",
       "<table border=\"1\" class=\"dataframe\">\n",
       "  <thead>\n",
       "    <tr style=\"text-align: right;\">\n",
       "      <th></th>\n",
       "      <th>Username</th>\n",
       "      <th>Repository Name</th>\n",
       "      <th>Description</th>\n",
       "      <th>Last Update Date</th>\n",
       "      <th>Language</th>\n",
       "      <th>Number of Stars</th>\n",
       "      <th>Tags</th>\n",
       "      <th>Url</th>\n",
       "    </tr>\n",
       "  </thead>\n",
       "  <tbody>\n",
       "    <tr>\n",
       "      <th>0</th>\n",
       "      <td>freeCodeCamp</td>\n",
       "      <td>freeCodeCamp</td>\n",
       "      <td>The https://freeCodeCamp.com open source codeb...</td>\n",
       "      <td>2017-06-24 15:56:17</td>\n",
       "      <td>JavaScript</td>\n",
       "      <td>290k</td>\n",
       "      <td>nonprofits,certification,curriculum,react,node...</td>\n",
       "      <td>https://github.com/freeCodeCamp/freeCodeCamp</td>\n",
       "    </tr>\n",
       "    <tr>\n",
       "      <th>1</th>\n",
       "      <td>twbs</td>\n",
       "      <td>bootstrap</td>\n",
       "      <td>The most popular HTML, CSS, and JavaScript fra...</td>\n",
       "      <td>2017-06-24 15:40:21</td>\n",
       "      <td>JavaScript</td>\n",
       "      <td>112k</td>\n",
       "      <td>javascript,css,html,bootstrap,jekyll-site,scss</td>\n",
       "      <td>https://github.com/twbs/bootstrap</td>\n",
       "    </tr>\n",
       "    <tr>\n",
       "      <th>2</th>\n",
       "      <td>EbookFoundation</td>\n",
       "      <td>free-programming-books</td>\n",
       "      <td>Freely available programming books</td>\n",
       "      <td>2017-06-23 01:09:34</td>\n",
       "      <td>NaN</td>\n",
       "      <td>87.8k</td>\n",
       "      <td>education,list,books,resource</td>\n",
       "      <td>https://github.com/EbookFoundation/free-progra...</td>\n",
       "    </tr>\n",
       "    <tr>\n",
       "      <th>3</th>\n",
       "      <td>facebook</td>\n",
       "      <td>react</td>\n",
       "      <td>A declarative, efficient, and flexible JavaScr...</td>\n",
       "      <td>2017-06-24 19:33:49</td>\n",
       "      <td>JavaScript</td>\n",
       "      <td>69.7k</td>\n",
       "      <td>NaN</td>\n",
       "      <td>https://github.com/facebook/react</td>\n",
       "    </tr>\n",
       "    <tr>\n",
       "      <th>4</th>\n",
       "      <td>d3</td>\n",
       "      <td>d3</td>\n",
       "      <td>Bring data to life with SVG, Canvas and HTML.</td>\n",
       "      <td>2017-05-31 06:03:47</td>\n",
       "      <td>JavaScript</td>\n",
       "      <td>65.7k</td>\n",
       "      <td>visualization</td>\n",
       "      <td>https://github.com/d3/d3</td>\n",
       "    </tr>\n",
       "  </tbody>\n",
       "</table>\n",
       "</div>"
      ],
      "text/plain": [
       "          Username         Repository Name  \\\n",
       "0     freeCodeCamp            freeCodeCamp   \n",
       "1             twbs               bootstrap   \n",
       "2  EbookFoundation  free-programming-books   \n",
       "3         facebook                   react   \n",
       "4               d3                      d3   \n",
       "\n",
       "                                         Description    Last Update Date  \\\n",
       "0  The https://freeCodeCamp.com open source codeb... 2017-06-24 15:56:17   \n",
       "1  The most popular HTML, CSS, and JavaScript fra... 2017-06-24 15:40:21   \n",
       "2                 Freely available programming books 2017-06-23 01:09:34   \n",
       "3  A declarative, efficient, and flexible JavaScr... 2017-06-24 19:33:49   \n",
       "4     Bring data to life with SVG, Canvas and HTML.  2017-05-31 06:03:47   \n",
       "\n",
       "     Language Number of Stars  \\\n",
       "0  JavaScript            290k   \n",
       "1  JavaScript            112k   \n",
       "2         NaN           87.8k   \n",
       "3  JavaScript           69.7k   \n",
       "4  JavaScript           65.7k   \n",
       "\n",
       "                                                Tags  \\\n",
       "0  nonprofits,certification,curriculum,react,node...   \n",
       "1     javascript,css,html,bootstrap,jekyll-site,scss   \n",
       "2                      education,list,books,resource   \n",
       "3                                                NaN   \n",
       "4                                      visualization   \n",
       "\n",
       "                                                 Url  \n",
       "0       https://github.com/freeCodeCamp/freeCodeCamp  \n",
       "1                  https://github.com/twbs/bootstrap  \n",
       "2  https://github.com/EbookFoundation/free-progra...  \n",
       "3                  https://github.com/facebook/react  \n",
       "4                           https://github.com/d3/d3  "
      ]
     },
     "execution_count": 76,
     "metadata": {},
     "output_type": "execute_result"
    }
   ],
   "source": [
    "git_df = pd.read_csv(\"topstarredopensourceprojects/TopStaredRepositories.csv\", parse_dates=['Last Update Date'], dayfirst=True)\n",
    "git_df.head()"
   ]
  },
  {
   "cell_type": "code",
   "execution_count": 77,
   "metadata": {},
   "outputs": [
    {
     "name": "stdout",
     "output_type": "stream",
     "text": [
      "<class 'pandas.core.frame.DataFrame'>\n",
      "RangeIndex: 980 entries, 0 to 979\n",
      "Data columns (total 8 columns):\n",
      "Username            980 non-null object\n",
      "Repository Name     980 non-null object\n",
      "Description         977 non-null object\n",
      "Last Update Date    980 non-null datetime64[ns]\n",
      "Language            877 non-null object\n",
      "Number of Stars     980 non-null object\n",
      "Tags                489 non-null object\n",
      "Url                 980 non-null object\n",
      "dtypes: datetime64[ns](1), object(7)\n",
      "memory usage: 61.3+ KB\n"
     ]
    }
   ],
   "source": [
    "git_df.info()"
   ]
  },
  {
   "cell_type": "markdown",
   "metadata": {},
   "source": [
    "<h2 style=\"text-decoration:underline\">1. Popular Repositories</h2>\n",
    "<br>\n",
    "**Determining what constitutes a popular repository by extracting the range of maximum and minimum starred repositories**"
   ]
  },
  {
   "cell_type": "markdown",
   "metadata": {},
   "source": [
    "<em>Converting the alphanumeric format of \"Number of Stars\" to numeric"
   ]
  },
  {
   "cell_type": "code",
   "execution_count": 78,
   "metadata": {},
   "outputs": [
    {
     "data": {
      "text/plain": [
       "True"
      ]
     },
     "execution_count": 78,
     "metadata": {},
     "output_type": "execute_result"
    }
   ],
   "source": [
    "git_df_max = git_df['Number of Stars'].str.contains('k').all()\n",
    "git_df_max"
   ]
  },
  {
   "cell_type": "code",
   "execution_count": 79,
   "metadata": {
    "collapsed": true
   },
   "outputs": [],
   "source": [
    "git_df['Number of Stars']=git_df['Number of Stars'].str.replace('k','').astype(float)"
   ]
  },
  {
   "cell_type": "markdown",
   "metadata": {},
   "source": [
    "### 1.1 The top 5 repositories in the dataset [based on \"Number of Stars\"]"
   ]
  },
  {
   "cell_type": "code",
   "execution_count": 80,
   "metadata": {},
   "outputs": [
    {
     "data": {
      "text/html": [
       "<div>\n",
       "<style>\n",
       "    .dataframe thead tr:only-child th {\n",
       "        text-align: right;\n",
       "    }\n",
       "\n",
       "    .dataframe thead th {\n",
       "        text-align: left;\n",
       "    }\n",
       "\n",
       "    .dataframe tbody tr th {\n",
       "        vertical-align: top;\n",
       "    }\n",
       "</style>\n",
       "<table border=\"1\" class=\"dataframe\">\n",
       "  <thead>\n",
       "    <tr style=\"text-align: right;\">\n",
       "      <th></th>\n",
       "      <th>Username</th>\n",
       "      <th>Repository Name</th>\n",
       "      <th>Description</th>\n",
       "      <th>Last Update Date</th>\n",
       "      <th>Language</th>\n",
       "      <th>Number of Stars</th>\n",
       "      <th>Tags</th>\n",
       "      <th>Url</th>\n",
       "    </tr>\n",
       "  </thead>\n",
       "  <tbody>\n",
       "    <tr>\n",
       "      <th>0</th>\n",
       "      <td>freeCodeCamp</td>\n",
       "      <td>freeCodeCamp</td>\n",
       "      <td>The https://freeCodeCamp.com open source codeb...</td>\n",
       "      <td>2017-06-24 15:56:17</td>\n",
       "      <td>JavaScript</td>\n",
       "      <td>290.0</td>\n",
       "      <td>nonprofits,certification,curriculum,react,node...</td>\n",
       "      <td>https://github.com/freeCodeCamp/freeCodeCamp</td>\n",
       "    </tr>\n",
       "    <tr>\n",
       "      <th>1</th>\n",
       "      <td>twbs</td>\n",
       "      <td>bootstrap</td>\n",
       "      <td>The most popular HTML, CSS, and JavaScript fra...</td>\n",
       "      <td>2017-06-24 15:40:21</td>\n",
       "      <td>JavaScript</td>\n",
       "      <td>112.0</td>\n",
       "      <td>javascript,css,html,bootstrap,jekyll-site,scss</td>\n",
       "      <td>https://github.com/twbs/bootstrap</td>\n",
       "    </tr>\n",
       "    <tr>\n",
       "      <th>2</th>\n",
       "      <td>EbookFoundation</td>\n",
       "      <td>free-programming-books</td>\n",
       "      <td>Freely available programming books</td>\n",
       "      <td>2017-06-23 01:09:34</td>\n",
       "      <td>NaN</td>\n",
       "      <td>87.8</td>\n",
       "      <td>education,list,books,resource</td>\n",
       "      <td>https://github.com/EbookFoundation/free-progra...</td>\n",
       "    </tr>\n",
       "    <tr>\n",
       "      <th>3</th>\n",
       "      <td>facebook</td>\n",
       "      <td>react</td>\n",
       "      <td>A declarative, efficient, and flexible JavaScr...</td>\n",
       "      <td>2017-06-24 19:33:49</td>\n",
       "      <td>JavaScript</td>\n",
       "      <td>69.7</td>\n",
       "      <td>NaN</td>\n",
       "      <td>https://github.com/facebook/react</td>\n",
       "    </tr>\n",
       "    <tr>\n",
       "      <th>4</th>\n",
       "      <td>d3</td>\n",
       "      <td>d3</td>\n",
       "      <td>Bring data to life with SVG, Canvas and HTML.</td>\n",
       "      <td>2017-05-31 06:03:47</td>\n",
       "      <td>JavaScript</td>\n",
       "      <td>65.7</td>\n",
       "      <td>visualization</td>\n",
       "      <td>https://github.com/d3/d3</td>\n",
       "    </tr>\n",
       "  </tbody>\n",
       "</table>\n",
       "</div>"
      ],
      "text/plain": [
       "          Username         Repository Name  \\\n",
       "0     freeCodeCamp            freeCodeCamp   \n",
       "1             twbs               bootstrap   \n",
       "2  EbookFoundation  free-programming-books   \n",
       "3         facebook                   react   \n",
       "4               d3                      d3   \n",
       "\n",
       "                                         Description    Last Update Date  \\\n",
       "0  The https://freeCodeCamp.com open source codeb... 2017-06-24 15:56:17   \n",
       "1  The most popular HTML, CSS, and JavaScript fra... 2017-06-24 15:40:21   \n",
       "2                 Freely available programming books 2017-06-23 01:09:34   \n",
       "3  A declarative, efficient, and flexible JavaScr... 2017-06-24 19:33:49   \n",
       "4     Bring data to life with SVG, Canvas and HTML.  2017-05-31 06:03:47   \n",
       "\n",
       "     Language  Number of Stars  \\\n",
       "0  JavaScript            290.0   \n",
       "1  JavaScript            112.0   \n",
       "2         NaN             87.8   \n",
       "3  JavaScript             69.7   \n",
       "4  JavaScript             65.7   \n",
       "\n",
       "                                                Tags  \\\n",
       "0  nonprofits,certification,curriculum,react,node...   \n",
       "1     javascript,css,html,bootstrap,jekyll-site,scss   \n",
       "2                      education,list,books,resource   \n",
       "3                                                NaN   \n",
       "4                                      visualization   \n",
       "\n",
       "                                                 Url  \n",
       "0       https://github.com/freeCodeCamp/freeCodeCamp  \n",
       "1                  https://github.com/twbs/bootstrap  \n",
       "2  https://github.com/EbookFoundation/free-progra...  \n",
       "3                  https://github.com/facebook/react  \n",
       "4                           https://github.com/d3/d3  "
      ]
     },
     "execution_count": 80,
     "metadata": {},
     "output_type": "execute_result"
    }
   ],
   "source": [
    "git_df.head()"
   ]
  },
  {
   "cell_type": "markdown",
   "metadata": {},
   "source": [
    "### 1.2 The bottom 5 repositories in the dataset"
   ]
  },
  {
   "cell_type": "code",
   "execution_count": 81,
   "metadata": {},
   "outputs": [
    {
     "data": {
      "text/html": [
       "<div>\n",
       "<style>\n",
       "    .dataframe thead tr:only-child th {\n",
       "        text-align: right;\n",
       "    }\n",
       "\n",
       "    .dataframe thead th {\n",
       "        text-align: left;\n",
       "    }\n",
       "\n",
       "    .dataframe tbody tr th {\n",
       "        vertical-align: top;\n",
       "    }\n",
       "</style>\n",
       "<table border=\"1\" class=\"dataframe\">\n",
       "  <thead>\n",
       "    <tr style=\"text-align: right;\">\n",
       "      <th></th>\n",
       "      <th>Username</th>\n",
       "      <th>Repository Name</th>\n",
       "      <th>Description</th>\n",
       "      <th>Last Update Date</th>\n",
       "      <th>Language</th>\n",
       "      <th>Number of Stars</th>\n",
       "      <th>Tags</th>\n",
       "      <th>Url</th>\n",
       "    </tr>\n",
       "  </thead>\n",
       "  <tbody>\n",
       "    <tr>\n",
       "      <th>975</th>\n",
       "      <td>chrisjenx</td>\n",
       "      <td>Calligraphy</td>\n",
       "      <td>Custom fonts in Android the easy way...</td>\n",
       "      <td>2017-06-06 19:23:22</td>\n",
       "      <td>Java</td>\n",
       "      <td>6.4</td>\n",
       "      <td>NaN</td>\n",
       "      <td>https://github.com/chrisjenx/Calligraphy</td>\n",
       "    </tr>\n",
       "    <tr>\n",
       "      <th>976</th>\n",
       "      <td>eliangcs</td>\n",
       "      <td>http-prompt</td>\n",
       "      <td>HTTPie + prompt_toolkit = an interactive comma...</td>\n",
       "      <td>2017-05-11 13:27:42</td>\n",
       "      <td>Python</td>\n",
       "      <td>6.4</td>\n",
       "      <td>python,syntax-highlighting,shell,cli,http,auto...</td>\n",
       "      <td>https://github.com/eliangcs/http-prompt</td>\n",
       "    </tr>\n",
       "    <tr>\n",
       "      <th>977</th>\n",
       "      <td>robertdavidgraham</td>\n",
       "      <td>masscan</td>\n",
       "      <td>TCP port scanner, spews SYN packets asynchrono...</td>\n",
       "      <td>2017-06-22 06:27:09</td>\n",
       "      <td>C</td>\n",
       "      <td>6.4</td>\n",
       "      <td>NaN</td>\n",
       "      <td>https://github.com/robertdavidgraham/masscan</td>\n",
       "    </tr>\n",
       "    <tr>\n",
       "      <th>978</th>\n",
       "      <td>ElemeFE</td>\n",
       "      <td>mint-ui</td>\n",
       "      <td>Mobile UI elements for Vue.js</td>\n",
       "      <td>2017-06-22 10:02:35</td>\n",
       "      <td>Vue</td>\n",
       "      <td>6.4</td>\n",
       "      <td>vue,mobile,component,vue-components,ui-kit</td>\n",
       "      <td>https://github.com/ElemeFE/mint-ui</td>\n",
       "    </tr>\n",
       "    <tr>\n",
       "      <th>979</th>\n",
       "      <td>lhc70000</td>\n",
       "      <td>iina</td>\n",
       "      <td>The modern video player for macOS.</td>\n",
       "      <td>2017-06-24 19:09:31</td>\n",
       "      <td>Swift</td>\n",
       "      <td>6.4</td>\n",
       "      <td>macos,video,mpv,swift,video-player</td>\n",
       "      <td>https://github.com/lhc70000/iina</td>\n",
       "    </tr>\n",
       "  </tbody>\n",
       "</table>\n",
       "</div>"
      ],
      "text/plain": [
       "              Username Repository Name  \\\n",
       "975          chrisjenx     Calligraphy   \n",
       "976           eliangcs     http-prompt   \n",
       "977  robertdavidgraham         masscan   \n",
       "978            ElemeFE         mint-ui   \n",
       "979           lhc70000            iina   \n",
       "\n",
       "                                           Description    Last Update Date  \\\n",
       "975            Custom fonts in Android the easy way... 2017-06-06 19:23:22   \n",
       "976  HTTPie + prompt_toolkit = an interactive comma... 2017-05-11 13:27:42   \n",
       "977  TCP port scanner, spews SYN packets asynchrono... 2017-06-22 06:27:09   \n",
       "978                      Mobile UI elements for Vue.js 2017-06-22 10:02:35   \n",
       "979                 The modern video player for macOS. 2017-06-24 19:09:31   \n",
       "\n",
       "    Language  Number of Stars  \\\n",
       "975     Java              6.4   \n",
       "976   Python              6.4   \n",
       "977        C              6.4   \n",
       "978      Vue              6.4   \n",
       "979    Swift              6.4   \n",
       "\n",
       "                                                  Tags  \\\n",
       "975                                                NaN   \n",
       "976  python,syntax-highlighting,shell,cli,http,auto...   \n",
       "977                                                NaN   \n",
       "978         vue,mobile,component,vue-components,ui-kit   \n",
       "979                 macos,video,mpv,swift,video-player   \n",
       "\n",
       "                                              Url  \n",
       "975      https://github.com/chrisjenx/Calligraphy  \n",
       "976       https://github.com/eliangcs/http-prompt  \n",
       "977  https://github.com/robertdavidgraham/masscan  \n",
       "978            https://github.com/ElemeFE/mint-ui  \n",
       "979              https://github.com/lhc70000/iina  "
      ]
     },
     "execution_count": 81,
     "metadata": {},
     "output_type": "execute_result"
    }
   ],
   "source": [
    "git_df.tail()"
   ]
  },
  {
   "cell_type": "markdown",
   "metadata": {},
   "source": [
    "### 1.3 Statistical analysis of the repositories"
   ]
  },
  {
   "cell_type": "code",
   "execution_count": 91,
   "metadata": {},
   "outputs": [
    {
     "data": {
      "text/plain": [
       "count    980.000000\n",
       "mean      12.985714\n",
       "std       12.780092\n",
       "min        6.400000\n",
       "25%        7.700000\n",
       "50%        9.500000\n",
       "75%       14.200000\n",
       "max      290.000000\n",
       "Name: Number of Stars, dtype: float64"
      ]
     },
     "execution_count": 91,
     "metadata": {},
     "output_type": "execute_result"
    }
   ],
   "source": [
    "git_df['Number of Stars'].describe()"
   ]
  },
  {
   "cell_type": "markdown",
   "metadata": {},
   "source": [
    "<h4 style=\"color:blue\">Most popular repo- 290,000 stars</h4>\n",
    "<h4 style=\"color:blue\"> Least popular repo- 6400 stars</h4>\n",
    "<h4 style=\"color:blue\">Average rating of repos- 13,000 stars</h4>"
   ]
  },
  {
   "cell_type": "markdown",
   "metadata": {},
   "source": [
    "### 1.3 List of all repositories with stars > 13,000"
   ]
  },
  {
   "cell_type": "code",
   "execution_count": 95,
   "metadata": {},
   "outputs": [
    {
     "data": {
      "text/plain": [
       "288"
      ]
     },
     "execution_count": 95,
     "metadata": {},
     "output_type": "execute_result"
    }
   ],
   "source": [
    "popular_repos= git_df[git_df['Number of Stars'] > 13.0]\n",
    "len(popular_repos)"
   ]
  },
  {
   "cell_type": "code",
   "execution_count": 96,
   "metadata": {
    "scrolled": true
   },
   "outputs": [
    {
     "data": {
      "text/html": [
       "<div>\n",
       "<style>\n",
       "    .dataframe thead tr:only-child th {\n",
       "        text-align: right;\n",
       "    }\n",
       "\n",
       "    .dataframe thead th {\n",
       "        text-align: left;\n",
       "    }\n",
       "\n",
       "    .dataframe tbody tr th {\n",
       "        vertical-align: top;\n",
       "    }\n",
       "</style>\n",
       "<table border=\"1\" class=\"dataframe\">\n",
       "  <thead>\n",
       "    <tr style=\"text-align: right;\">\n",
       "      <th></th>\n",
       "      <th>Username</th>\n",
       "      <th>Repository Name</th>\n",
       "      <th>Description</th>\n",
       "      <th>Last Update Date</th>\n",
       "      <th>Language</th>\n",
       "      <th>Number of Stars</th>\n",
       "      <th>Tags</th>\n",
       "      <th>Url</th>\n",
       "    </tr>\n",
       "  </thead>\n",
       "  <tbody>\n",
       "    <tr>\n",
       "      <th>0</th>\n",
       "      <td>freeCodeCamp</td>\n",
       "      <td>freeCodeCamp</td>\n",
       "      <td>The https://freeCodeCamp.com open source codeb...</td>\n",
       "      <td>2017-06-24 15:56:17</td>\n",
       "      <td>JavaScript</td>\n",
       "      <td>290.0</td>\n",
       "      <td>nonprofits,certification,curriculum,react,node...</td>\n",
       "      <td>https://github.com/freeCodeCamp/freeCodeCamp</td>\n",
       "    </tr>\n",
       "    <tr>\n",
       "      <th>1</th>\n",
       "      <td>twbs</td>\n",
       "      <td>bootstrap</td>\n",
       "      <td>The most popular HTML, CSS, and JavaScript fra...</td>\n",
       "      <td>2017-06-24 15:40:21</td>\n",
       "      <td>JavaScript</td>\n",
       "      <td>112.0</td>\n",
       "      <td>javascript,css,html,bootstrap,jekyll-site,scss</td>\n",
       "      <td>https://github.com/twbs/bootstrap</td>\n",
       "    </tr>\n",
       "    <tr>\n",
       "      <th>2</th>\n",
       "      <td>EbookFoundation</td>\n",
       "      <td>free-programming-books</td>\n",
       "      <td>Freely available programming books</td>\n",
       "      <td>2017-06-23 01:09:34</td>\n",
       "      <td>NaN</td>\n",
       "      <td>87.8</td>\n",
       "      <td>education,list,books,resource</td>\n",
       "      <td>https://github.com/EbookFoundation/free-progra...</td>\n",
       "    </tr>\n",
       "    <tr>\n",
       "      <th>3</th>\n",
       "      <td>facebook</td>\n",
       "      <td>react</td>\n",
       "      <td>A declarative, efficient, and flexible JavaScr...</td>\n",
       "      <td>2017-06-24 19:33:49</td>\n",
       "      <td>JavaScript</td>\n",
       "      <td>69.7</td>\n",
       "      <td>NaN</td>\n",
       "      <td>https://github.com/facebook/react</td>\n",
       "    </tr>\n",
       "    <tr>\n",
       "      <th>4</th>\n",
       "      <td>d3</td>\n",
       "      <td>d3</td>\n",
       "      <td>Bring data to life with SVG, Canvas and HTML.</td>\n",
       "      <td>2017-05-31 06:03:47</td>\n",
       "      <td>JavaScript</td>\n",
       "      <td>65.7</td>\n",
       "      <td>visualization</td>\n",
       "      <td>https://github.com/d3/d3</td>\n",
       "    </tr>\n",
       "  </tbody>\n",
       "</table>\n",
       "</div>"
      ],
      "text/plain": [
       "          Username         Repository Name  \\\n",
       "0     freeCodeCamp            freeCodeCamp   \n",
       "1             twbs               bootstrap   \n",
       "2  EbookFoundation  free-programming-books   \n",
       "3         facebook                   react   \n",
       "4               d3                      d3   \n",
       "\n",
       "                                         Description    Last Update Date  \\\n",
       "0  The https://freeCodeCamp.com open source codeb... 2017-06-24 15:56:17   \n",
       "1  The most popular HTML, CSS, and JavaScript fra... 2017-06-24 15:40:21   \n",
       "2                 Freely available programming books 2017-06-23 01:09:34   \n",
       "3  A declarative, efficient, and flexible JavaScr... 2017-06-24 19:33:49   \n",
       "4     Bring data to life with SVG, Canvas and HTML.  2017-05-31 06:03:47   \n",
       "\n",
       "     Language  Number of Stars  \\\n",
       "0  JavaScript            290.0   \n",
       "1  JavaScript            112.0   \n",
       "2         NaN             87.8   \n",
       "3  JavaScript             69.7   \n",
       "4  JavaScript             65.7   \n",
       "\n",
       "                                                Tags  \\\n",
       "0  nonprofits,certification,curriculum,react,node...   \n",
       "1     javascript,css,html,bootstrap,jekyll-site,scss   \n",
       "2                      education,list,books,resource   \n",
       "3                                                NaN   \n",
       "4                                      visualization   \n",
       "\n",
       "                                                 Url  \n",
       "0       https://github.com/freeCodeCamp/freeCodeCamp  \n",
       "1                  https://github.com/twbs/bootstrap  \n",
       "2  https://github.com/EbookFoundation/free-progra...  \n",
       "3                  https://github.com/facebook/react  \n",
       "4                           https://github.com/d3/d3  "
      ]
     },
     "execution_count": 96,
     "metadata": {},
     "output_type": "execute_result"
    }
   ],
   "source": [
    "popular_repos.head()"
   ]
  },
  {
   "cell_type": "code",
   "execution_count": 97,
   "metadata": {},
   "outputs": [
    {
     "data": {
      "text/html": [
       "<div>\n",
       "<style>\n",
       "    .dataframe thead tr:only-child th {\n",
       "        text-align: right;\n",
       "    }\n",
       "\n",
       "    .dataframe thead th {\n",
       "        text-align: left;\n",
       "    }\n",
       "\n",
       "    .dataframe tbody tr th {\n",
       "        vertical-align: top;\n",
       "    }\n",
       "</style>\n",
       "<table border=\"1\" class=\"dataframe\">\n",
       "  <thead>\n",
       "    <tr style=\"text-align: right;\">\n",
       "      <th></th>\n",
       "      <th>Username</th>\n",
       "      <th>Repository Name</th>\n",
       "      <th>Description</th>\n",
       "      <th>Last Update Date</th>\n",
       "      <th>Language</th>\n",
       "      <th>Number of Stars</th>\n",
       "      <th>Tags</th>\n",
       "      <th>Url</th>\n",
       "    </tr>\n",
       "  </thead>\n",
       "  <tbody>\n",
       "    <tr>\n",
       "      <th>283</th>\n",
       "      <td>chjj</td>\n",
       "      <td>marked</td>\n",
       "      <td>A markdown parser and compiler. Built for speed.</td>\n",
       "      <td>2017-06-12 01:27:25</td>\n",
       "      <td>HTML</td>\n",
       "      <td>13.2</td>\n",
       "      <td>NaN</td>\n",
       "      <td>https://github.com/chjj/marked</td>\n",
       "    </tr>\n",
       "    <tr>\n",
       "      <th>284</th>\n",
       "      <td>knsv</td>\n",
       "      <td>mermaid</td>\n",
       "      <td>Generation of diagram and flowchart from text ...</td>\n",
       "      <td>2017-06-04 07:26:58</td>\n",
       "      <td>JavaScript</td>\n",
       "      <td>13.2</td>\n",
       "      <td>NaN</td>\n",
       "      <td>https://github.com/knsv/mermaid</td>\n",
       "    </tr>\n",
       "    <tr>\n",
       "      <th>285</th>\n",
       "      <td>juliangarnier</td>\n",
       "      <td>anime</td>\n",
       "      <td>JavaScript Animation Engine</td>\n",
       "      <td>2017-06-24 15:44:51</td>\n",
       "      <td>JavaScript</td>\n",
       "      <td>13.1</td>\n",
       "      <td>anime,animation</td>\n",
       "      <td>https://github.com/juliangarnier/anime</td>\n",
       "    </tr>\n",
       "    <tr>\n",
       "      <th>286</th>\n",
       "      <td>designmodo</td>\n",
       "      <td>Flat-UI</td>\n",
       "      <td>Flat UI Free - Design Framework (html/css3/les...</td>\n",
       "      <td>2017-02-21 20:29:33</td>\n",
       "      <td>CSS</td>\n",
       "      <td>13.1</td>\n",
       "      <td>NaN</td>\n",
       "      <td>https://github.com/designmodo/Flat-UI</td>\n",
       "    </tr>\n",
       "    <tr>\n",
       "      <th>287</th>\n",
       "      <td>julianshapiro</td>\n",
       "      <td>velocity</td>\n",
       "      <td>Accelerated JavaScript animation.</td>\n",
       "      <td>2017-05-12 13:58:42</td>\n",
       "      <td>JavaScript</td>\n",
       "      <td>13.1</td>\n",
       "      <td>NaN</td>\n",
       "      <td>https://github.com/julianshapiro/velocity</td>\n",
       "    </tr>\n",
       "  </tbody>\n",
       "</table>\n",
       "</div>"
      ],
      "text/plain": [
       "          Username Repository Name  \\\n",
       "283           chjj          marked   \n",
       "284           knsv         mermaid   \n",
       "285  juliangarnier           anime   \n",
       "286     designmodo         Flat-UI   \n",
       "287  julianshapiro        velocity   \n",
       "\n",
       "                                           Description    Last Update Date  \\\n",
       "283   A markdown parser and compiler. Built for speed. 2017-06-12 01:27:25   \n",
       "284  Generation of diagram and flowchart from text ... 2017-06-04 07:26:58   \n",
       "285                        JavaScript Animation Engine 2017-06-24 15:44:51   \n",
       "286  Flat UI Free - Design Framework (html/css3/les... 2017-02-21 20:29:33   \n",
       "287                  Accelerated JavaScript animation. 2017-05-12 13:58:42   \n",
       "\n",
       "       Language  Number of Stars             Tags  \\\n",
       "283        HTML             13.2              NaN   \n",
       "284  JavaScript             13.2              NaN   \n",
       "285  JavaScript             13.1  anime,animation   \n",
       "286         CSS             13.1              NaN   \n",
       "287  JavaScript             13.1              NaN   \n",
       "\n",
       "                                           Url  \n",
       "283             https://github.com/chjj/marked  \n",
       "284            https://github.com/knsv/mermaid  \n",
       "285     https://github.com/juliangarnier/anime  \n",
       "286      https://github.com/designmodo/Flat-UI  \n",
       "287  https://github.com/julianshapiro/velocity  "
      ]
     },
     "execution_count": 97,
     "metadata": {},
     "output_type": "execute_result"
    }
   ],
   "source": [
    "popular_repos.tail()"
   ]
  },
  {
   "cell_type": "markdown",
   "metadata": {},
   "source": [
    "\n",
    "<h3 style=\"color:blue\"> Here we see that freeCodeCamp tops the list with 290,000 stars to its repository.</h3>\n",
    "<hr>\n",
    "### The above list lists all repos that have > 13,000 stars [above average repositories]\n",
    "#### A few more observations can be derived from this list:\n",
    "<ol>\n",
    "<li style=\"color:blue\">5 of the most popular repos are frameworks</li>\n",
    "<li style=\"color:blue\">The third, fifth and seventh most popular repos are educational, and instructive in nature.</li>\n",
    "</ol>"
   ]
  },
  {
   "cell_type": "markdown",
   "metadata": {},
   "source": [
    "<h2 style=\"text-decoration:underline\">2. Popular Languages</h2>\n",
    "<br>\n",
    "**Determining the popularity of a language based on the number of repositories using it.**"
   ]
  },
  {
   "cell_type": "code",
   "execution_count": 98,
   "metadata": {},
   "outputs": [
    {
     "data": {
      "text/plain": [
       "JavaScript     338\n",
       "Java            67\n",
       "Python          63\n",
       "Ruby            44\n",
       "Objective-C     43\n",
       "Name: Language, dtype: int64"
      ]
     },
     "execution_count": 98,
     "metadata": {},
     "output_type": "execute_result"
    }
   ],
   "source": [
    "x=git_df['Language'].value_counts()\n",
    "x.head()"
   ]
  },
  {
   "cell_type": "code",
   "execution_count": 99,
   "metadata": {},
   "outputs": [
    {
     "data": {
      "text/plain": [
       "<matplotlib.axes._subplots.AxesSubplot at 0x25531c35d68>"
      ]
     },
     "execution_count": 99,
     "metadata": {},
     "output_type": "execute_result"
    },
    {
     "data": {
      "image/png": "[encoded data removed]",
      "text/plain": [
       "<matplotlib.figure.Figure at 0x255313b42b0>"
      ]
     },
     "metadata": {},
     "output_type": "display_data"
    }
   ],
   "source": [
    "%matplotlib inline\n",
    "plt.figure()\n",
    "x.plot(kind='barh',figsize=(15,10),grid=True, label='Number of repositories',legend='No of repos',title='No of repositories vs language used')\n"
   ]
  },
  {
   "cell_type": "code",
   "execution_count": 155,
   "metadata": {},
   "outputs": [
    {
     "data": {
      "text/plain": [
       "<matplotlib.axes._subplots.AxesSubplot at 0x25535155dd8>"
      ]
     },
     "execution_count": 155,
     "metadata": {},
     "output_type": "execute_result"
    },
    {
     "data": {
      "image/png": "[encoded data removed]",
      "text/plain": [
       "<matplotlib.figure.Figure at 0x2553553b0b8>"
      ]
     },
     "metadata": {},
     "output_type": "display_data"
    }
   ],
   "source": [
    "%matplotlib inline\n",
    "x[:5].plot.pie(label=\"Division of the top 5 languages\",fontsize=20,figsize=(10,10))"
   ]
  },
  {
   "cell_type": "code",
   "execution_count": 102,
   "metadata": {},
   "outputs": [
    {
     "data": {
      "text/plain": [
       "<matplotlib.axes._subplots.AxesSubplot at 0x25532233f98>"
      ]
     },
     "execution_count": 102,
     "metadata": {},
     "output_type": "execute_result"
    },
    {
     "data": {
      "image/png": "[encoded data removed]",
      "text/plain": [
       "<matplotlib.figure.Figure at 0x25532233048>"
      ]
     },
     "metadata": {},
     "output_type": "display_data"
    }
   ],
   "source": [
    "%matplotlib inline\n",
    "x[:20].plot.pie(label=\"Division of the top 20 languages\",fontsize=12,figsize=(10,10))"
   ]
  },
  {
   "cell_type": "markdown",
   "metadata": {},
   "source": [
    "<h2 style=\"text-decoration:underline\">3. Popular Domains</h2>\n",
    "<br>\n",
    "**Determining the popular domains by analysing the repository tags**"
   ]
  },
  {
   "cell_type": "markdown",
   "metadata": {},
   "source": [
    "<em>Removing all the null-tags fields from the dataframe"
   ]
  },
  {
   "cell_type": "code",
   "execution_count": 88,
   "metadata": {},
   "outputs": [
    {
     "data": {
      "text/html": [
       "<div>\n",
       "<style>\n",
       "    .dataframe thead tr:only-child th {\n",
       "        text-align: right;\n",
       "    }\n",
       "\n",
       "    .dataframe thead th {\n",
       "        text-align: left;\n",
       "    }\n",
       "\n",
       "    .dataframe tbody tr th {\n",
       "        vertical-align: top;\n",
       "    }\n",
       "</style>\n",
       "<table border=\"1\" class=\"dataframe\">\n",
       "  <thead>\n",
       "    <tr style=\"text-align: right;\">\n",
       "      <th></th>\n",
       "      <th>Tags</th>\n",
       "    </tr>\n",
       "  </thead>\n",
       "  <tbody>\n",
       "    <tr>\n",
       "      <th>0</th>\n",
       "      <td>nonprofits,certification,curriculum,react,node...</td>\n",
       "    </tr>\n",
       "    <tr>\n",
       "      <th>1</th>\n",
       "      <td>javascript,css,html,bootstrap,jekyll-site,scss</td>\n",
       "    </tr>\n",
       "    <tr>\n",
       "      <th>2</th>\n",
       "      <td>education,list,books,resource</td>\n",
       "    </tr>\n",
       "    <tr>\n",
       "      <th>4</th>\n",
       "      <td>visualization</td>\n",
       "    </tr>\n",
       "    <tr>\n",
       "      <th>5</th>\n",
       "      <td>book-series,javascript,training-materials,asyn...</td>\n",
       "    </tr>\n",
       "  </tbody>\n",
       "</table>\n",
       "</div>"
      ],
      "text/plain": [
       "                                                Tags\n",
       "0  nonprofits,certification,curriculum,react,node...\n",
       "1     javascript,css,html,bootstrap,jekyll-site,scss\n",
       "2                      education,list,books,resource\n",
       "4                                      visualization\n",
       "5  book-series,javascript,training-materials,asyn..."
      ]
     },
     "execution_count": 88,
     "metadata": {},
     "output_type": "execute_result"
    }
   ],
   "source": [
    "nonull_df = git_df[['Tags']].dropna()\n",
    "tags_list = nonull_df['Tags'].str.split(',')\n",
    "nonull_df.head()"
   ]
  },
  {
   "cell_type": "code",
   "execution_count": 89,
   "metadata": {},
   "outputs": [
    {
     "data": {
      "text/plain": [
       "0    [nonprofits, certification, curriculum, react,...\n",
       "1    [javascript, css, html, bootstrap, jekyll-site...\n",
       "2                   [education, list, books, resource]\n",
       "4                                      [visualization]\n",
       "5    [book-series, javascript, training-materials, ...\n",
       "Name: Tags, dtype: object"
      ]
     },
     "execution_count": 89,
     "metadata": {},
     "output_type": "execute_result"
    }
   ],
   "source": [
    "tags_list.head()"
   ]
  },
  {
   "cell_type": "code",
   "execution_count": 111,
   "metadata": {
    "scrolled": false
   },
   "outputs": [
    {
     "data": {
      "text/plain": [
       "171"
      ]
     },
     "execution_count": 111,
     "metadata": {},
     "output_type": "execute_result"
    }
   ],
   "source": [
    "web_dev_count = 0\n",
    "tags = ['javascript', 'css', 'html', 'nodejs', 'bootstrap','react', 'react-native', 'rest-api', 'rest', 'web-development','typescript','coffeescript']\n",
    "for item in tags_list:\n",
    "    if set(tags).intersection(item):\n",
    "        web_dev_count+=1\n",
    "web_dev_count"
   ]
  },
  {
   "cell_type": "code",
   "execution_count": 114,
   "metadata": {},
   "outputs": [
    {
     "data": {
      "text/plain": [
       "16"
      ]
     },
     "execution_count": 114,
     "metadata": {},
     "output_type": "execute_result"
    }
   ],
   "source": [
    "machine_data_count=0\n",
    "mach=[]\n",
    "tags=['machine-learning', 'jupyter','jupter-notebook', 'tensorflow','data-science','data-analytics']\n",
    "for item in tags_list:\n",
    "    if set(tags).intersection(item):\n",
    "        machine_data_count+=1\n",
    "        mach.append(item)\n",
    "machine_data_count"
   ]
  },
  {
   "cell_type": "code",
   "execution_count": 124,
   "metadata": {},
   "outputs": [
    {
     "data": {
      "text/plain": [
       "99"
      ]
     },
     "execution_count": 124,
     "metadata": {},
     "output_type": "execute_result"
    }
   ],
   "source": [
    "mobile_dev_count=0\n",
    "tags=['android','sdk','ios','swift','mobile','react','macos','windows']\n",
    "for item in tags_list:\n",
    "    if set(tags).intersection(item):\n",
    "        mobile_dev_count+=1\n",
    "mobile_dev_count"
   ]
  },
  {
   "cell_type": "code",
   "execution_count": 117,
   "metadata": {},
   "outputs": [
    {
     "data": {
      "text/plain": [
       "15"
      ]
     },
     "execution_count": 117,
     "metadata": {},
     "output_type": "execute_result"
    }
   ],
   "source": [
    "linux_dev_count=0\n",
    "linux=[]\n",
    "tags=['linux','unix','bash','shell','cli','bsd']\n",
    "for item in tags_list:\n",
    "    if set(tags).intersection(item):\n",
    "        linux_dev_count+=1\n",
    "        linux.append(item)\n",
    "linux_dev_count"
   ]
  },
  {
   "cell_type": "code",
   "execution_count": 122,
   "metadata": {},
   "outputs": [
    {
     "data": {
      "text/plain": [
       "8"
      ]
     },
     "execution_count": 122,
     "metadata": {},
     "output_type": "execute_result"
    }
   ],
   "source": [
    "hardware_dev_count=0\n",
    "hardware=[]\n",
    "tags=['hardware','iot','smart','system','system-architecture','cloud']\n",
    "for item in tags_list:\n",
    "    if set(tags).intersection(item):\n",
    "        hardware.append(item)\n",
    "        hardware_dev_count+=1\n",
    "hardware_dev_count"
   ]
  },
  {
   "cell_type": "code",
   "execution_count": 125,
   "metadata": {
    "collapsed": true
   },
   "outputs": [],
   "source": [
    "domain_series=pd.Series(index=['Web Development','Data Science and Machine Learning','Mobile Development','Linux and Shell Programming','System hardware and IOT'],\n",
    "                        data=[web_dev_count,machine_data_count,mobile_dev_count,linux_dev_count,hardware_dev_count])"
   ]
  },
  {
   "cell_type": "code",
   "execution_count": 153,
   "metadata": {},
   "outputs": [
    {
     "data": {
      "text/plain": [
       "Web Development                      171\n",
       "Data Science and Machine Learning     16\n",
       "Mobile Development                    99\n",
       "Linux and Shell Programming           15\n",
       "System hardware and IOT                8\n",
       "dtype: int64"
      ]
     },
     "execution_count": 153,
     "metadata": {},
     "output_type": "execute_result"
    }
   ],
   "source": [
    "domain_series"
   ]
  },
  {
   "cell_type": "code",
   "execution_count": 154,
   "metadata": {},
   "outputs": [
    {
     "data": {
      "text/plain": [
       "[<matplotlib.text.Text at 0x255351b8160>,\n",
       " <matplotlib.text.Text at 0x255343ec550>]"
      ]
     },
     "execution_count": 154,
     "metadata": {},
     "output_type": "execute_result"
    },
    {
     "data": {
      "image/png": "[encoded data removed]",
      "text/plain": [
       "<matplotlib.figure.Figure at 0x25536217e48>"
      ]
     },
     "metadata": {},
     "output_type": "display_data"
    }
   ],
   "source": [
    "%matplotlib inline\n",
    "fig_domain=domain_series.plot(lw=2,kind='barh',figsize=(15,7),colormap='jet',grid=True,title='Domain-wise repository analysis')\n",
    "fig_domain.set(xlabel=\"Number of repositories\", ylabel=\"Domain Name\")"
   ]
  },
  {
   "cell_type": "code",
   "execution_count": null,
   "metadata": {
    "collapsed": true
   },
   "outputs": [],
   "source": []
  }
 ],
 "metadata": {
  "kernelspec": {
   "display_name": "Python 3",
   "language": "python",
   "name": "python3"
  },
  "language_info": {
   "codemirror_mode": {
    "name": "ipython",
    "version": 3
   },
   "file_extension": ".py",
   "mimetype": "text/x-python",
   "name": "python",
   "nbconvert_exporter": "python",
   "pygments_lexer": "ipython3",
   "version": "3.6.1"
  }
 },
 "nbformat": 4,
 "nbformat_minor": 2
}
